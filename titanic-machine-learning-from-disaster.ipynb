{
 "cells": [
  {
   "cell_type": "code",
   "execution_count": 39,
   "id": "6a23d2a5",
   "metadata": {
    "_cell_guid": "b1076dfc-b9ad-4769-8c92-a6c4dae69d19",
    "_uuid": "8f2839f25d086af736a60e9eeb907d3b93b6e0e5",
    "execution": {
     "iopub.execute_input": "2023-04-20T08:55:22.390066Z",
     "iopub.status.busy": "2023-04-20T08:55:22.389236Z",
     "iopub.status.idle": "2023-04-20T08:55:22.402814Z",
     "shell.execute_reply": "2023-04-20T08:55:22.401562Z"
    },
    "papermill": {
     "duration": 0.023895,
     "end_time": "2023-04-20T08:55:22.406145",
     "exception": false,
     "start_time": "2023-04-20T08:55:22.382250",
     "status": "completed"
    },
    "tags": []
   },
   "outputs": [],
   "source": [
    "# This Python 3 environment comes with many helpful analytics libraries installed\n",
    "# It is defined by the kaggle/python Docker image: https://github.com/kaggle/docker-python\n",
    "# For example, here's several helpful packages to load\n",
    "\n",
    "import numpy as np # linear algebra\n",
    "import pandas as pd # data processing, CSV file I/O (e.g. pd.read_csv)\n",
    "\n",
    "# Input data files are available in the read-only \"../input/\" directory\n",
    "# For example, running this (by clicking run or pressing Shift+Enter) will list all files under the input directory\n",
    "\n",
    "import os\n",
    "for dirname, _, filenames in os.walk('/kaggle/input'):\n",
    "    for filename in filenames:\n",
    "        print(os.path.join(dirname, filename))\n",
    "\n",
    "# You can write up to 20GB to the current directory (/kaggle/working/) that gets preserved as output when you create a version using \"Save & Run All\" \n",
    "# You can also write temporary files to /kaggle/temp/, but they won't be saved outside of the current session"
   ]
  },
  {
   "cell_type": "code",
   "execution_count": 40,
   "id": "fc49fc79",
   "metadata": {
    "execution": {
     "iopub.execute_input": "2023-04-20T08:55:22.416631Z",
     "iopub.status.busy": "2023-04-20T08:55:22.415875Z",
     "iopub.status.idle": "2023-04-20T08:55:23.780629Z",
     "shell.execute_reply": "2023-04-20T08:55:23.779359Z"
    },
    "papermill": {
     "duration": 1.373028,
     "end_time": "2023-04-20T08:55:23.783457",
     "exception": false,
     "start_time": "2023-04-20T08:55:22.410429",
     "status": "completed"
    },
    "tags": []
   },
   "outputs": [],
   "source": [
    "from sklearn.impute import SimpleImputer\n",
    "from sklearn.preprocessing import StandardScaler\n",
    "from sklearn.model_selection import train_test_split, cross_val_score, GridSearchCV\n",
    "from sklearn.neighbors import KNeighborsClassifier \n",
    "from sklearn import svm\n",
    "from sklearn.ensemble import RandomForestClassifier\n",
    "from sklearn.linear_model import LogisticRegression\n",
    "from sklearn.naive_bayes import GaussianNB\n",
    "from sklearn.metrics import accuracy_score, classification_report\n",
    "import pickle"
   ]
  },
  {
   "cell_type": "code",
   "execution_count": 41,
   "id": "01965361",
   "metadata": {
    "execution": {
     "iopub.execute_input": "2023-04-20T08:55:23.793335Z",
     "iopub.status.busy": "2023-04-20T08:55:23.792916Z",
     "iopub.status.idle": "2023-04-20T08:55:23.874837Z",
     "shell.execute_reply": "2023-04-20T08:55:23.873527Z"
    },
    "papermill": {
     "duration": 0.090048,
     "end_time": "2023-04-20T08:55:23.877586",
     "exception": false,
     "start_time": "2023-04-20T08:55:23.787538",
     "status": "completed"
    },
    "tags": []
   },
   "outputs": [],
   "source": [
    "df_train = pd.read_csv(r\"E:\\Machine learning project\\titanic/train.csv\")\n",
    "df_test = pd.read_csv(r\"E:\\Machine learning project\\titanic/test.csv\")\n",
    "\n",
    "relevent_features = ['Pclass', 'Sex', 'Age', 'SibSp', 'Parch', 'Fare', 'Embarked']\n",
    "\n",
    "# Handeel missing data\n",
    "\n",
    "imputer = SimpleImputer(strategy = 'most_frequent')\n",
    "\n",
    "df_train[relevent_features] = imputer.fit_transform(df_train[relevent_features])\n",
    "df_test[relevent_features] = imputer.fit_transform(df_test[relevent_features])\n",
    "\n",
    "# Encode catagorical variable as numaric\n",
    "\n",
    "df_train['Sex'] = df_train['Sex'].map({'male' : 1, 'female' : 0})\n",
    "df_test['Sex'] = df_test['Sex'].map({'male' : 1, 'female' : 0})\n",
    "\n",
    "df_train['Embarked'] = df_train['Embarked'].map({'S': 0, 'C': 1, 'Q': 2})\n",
    "df_test['Embarked'] = df_test['Embarked'].map({'S': 0, 'C': 1, 'Q': 2})\n",
    "\n",
    "\n",
    "\n",
    "# Spliting data into two catagories\n",
    "\n",
    "x_train = df_train[relevent_features]\n",
    "y_train = df_train['Survived']\n",
    "x_test = df_test[relevent_features]\n",
    "\n",
    "\n",
    "\n",
    "\n",
    "\n",
    "\n",
    "\n",
    "\n"
   ]
  },
  {
   "cell_type": "code",
   "execution_count": 42,
   "id": "c0eda1d2",
   "metadata": {},
   "outputs": [],
   "source": [
    "# Scaledown calues\n",
    "\n",
    "scaler = StandardScaler()\n",
    "x_train = scaler.fit_transform(x_train)\n",
    "x_test = scaler.fit_transform(x_test)"
   ]
  },
  {
   "cell_type": "code",
   "execution_count": 54,
   "id": "fff1a3d2",
   "metadata": {},
   "outputs": [],
   "source": [
    "import pickle\n",
    "pickle.dump(scaler,open('scaling.pkl','wb'))"
   ]
  },
  {
   "cell_type": "code",
   "execution_count": 43,
   "id": "8d65a29a",
   "metadata": {},
   "outputs": [],
   "source": [
    "## Spliting data\n",
    "x_train, x_val, y_train, y_val = train_test_split(x_train, y_train, test_size = 0.2, random_state = 33)"
   ]
  },
  {
   "cell_type": "code",
   "execution_count": 44,
   "id": "d8361657",
   "metadata": {
    "execution": {
     "iopub.execute_input": "2023-04-20T08:55:23.887194Z",
     "iopub.status.busy": "2023-04-20T08:55:23.886789Z",
     "iopub.status.idle": "2023-04-20T08:55:23.897267Z",
     "shell.execute_reply": "2023-04-20T08:55:23.895740Z"
    },
    "papermill": {
     "duration": 0.018265,
     "end_time": "2023-04-20T08:55:23.899842",
     "exception": false,
     "start_time": "2023-04-20T08:55:23.881577",
     "status": "completed"
    },
    "tags": []
   },
   "outputs": [],
   "source": [
    "## finding best model using GridSearchCV\n",
    "\n",
    "model_params = {\n",
    "    'svm' : {\n",
    "        'model' : svm.SVC(),\n",
    "        'params' : {\n",
    "            'C': [0.1, 1, 10], \n",
    "            'kernel': ['linear', 'poly', 'rbf'], \n",
    "            'gamma': [0.01, 0.1, 1]\n",
    "        }\n",
    "   },\n",
    "    \n",
    "    'random_forest' : {\n",
    "        'model' : RandomForestClassifier(),\n",
    "        'params' : {\n",
    "            'n_estimators': [50, 100, 200],\n",
    "            'max_depth': [3, 5, 7],\n",
    "            'min_samples_split': [2, 5, 10],\n",
    "            'max_features': ['sqrt', 'log2']\n",
    "        }\n",
    "    },\n",
    "    \n",
    "    'logistic_regression' : {\n",
    "        'model' : LogisticRegression(),\n",
    "        'params' : {\n",
    "            'C': [0.1, 1, 10], \n",
    "            'penalty': ['l2'], \n",
    "            'solver': ['newton-cg', 'lbfgs', 'liblinear', 'sag'], \n",
    "            'max_iter': [100, 500, 1000]\n",
    "        }\n",
    "    },\n",
    "    \n",
    "    'gaussin_nb' : {\n",
    "        'model' : GaussianNB(),\n",
    "        'params' : {\n",
    "            'var_smoothing': [1e-9, 1e-8, 1e-7, 1e-6, 1e-5]\n",
    "        }\n",
    "    },\n",
    "    \n",
    "    'knn' : {\n",
    "        'model' : KNeighborsClassifier(),\n",
    "        'params' : {\n",
    "            'n_neighbors': [3, 5, 7], \n",
    "            'weights': ['uniform', 'distance'], \n",
    "            'metric': ['euclidean', 'manhattan']\n",
    "        }\n",
    "    }\n",
    "}"
   ]
  },
  {
   "cell_type": "code",
   "execution_count": 45,
   "id": "1332118f",
   "metadata": {
    "execution": {
     "iopub.execute_input": "2023-04-20T08:55:23.909920Z",
     "iopub.status.busy": "2023-04-20T08:55:23.909088Z",
     "iopub.status.idle": "2023-04-20T08:56:39.620533Z",
     "shell.execute_reply": "2023-04-20T08:56:39.619359Z"
    },
    "papermill": {
     "duration": 75.71976,
     "end_time": "2023-04-20T08:56:39.623553",
     "exception": false,
     "start_time": "2023-04-20T08:55:23.903793",
     "status": "completed"
    },
    "tags": []
   },
   "outputs": [],
   "source": [
    "score = []\n",
    "\n",
    "for model_name, mp in model_params.items():\n",
    "    \n",
    "    clf = GridSearchCV(mp['model'], mp['params'], cv=5, return_train_score=False)\n",
    "    clf.fit(x_train, y_train)\n",
    "    score.append({\n",
    "        'model' : model_name,\n",
    "        'best_score' : clf.best_score_,\n",
    "        'best_params' : clf.best_params_\n",
    "    })"
   ]
  },
  {
   "cell_type": "code",
   "execution_count": 46,
   "id": "42854dd0",
   "metadata": {
    "execution": {
     "iopub.execute_input": "2023-04-20T08:56:39.633343Z",
     "iopub.status.busy": "2023-04-20T08:56:39.632931Z",
     "iopub.status.idle": "2023-04-20T08:56:39.653818Z",
     "shell.execute_reply": "2023-04-20T08:56:39.652471Z"
    },
    "papermill": {
     "duration": 0.028661,
     "end_time": "2023-04-20T08:56:39.656311",
     "exception": false,
     "start_time": "2023-04-20T08:56:39.627650",
     "status": "completed"
    },
    "tags": []
   },
   "outputs": [
    {
     "data": {
      "text/html": [
       "<div>\n",
       "<style scoped>\n",
       "    .dataframe tbody tr th:only-of-type {\n",
       "        vertical-align: middle;\n",
       "    }\n",
       "\n",
       "    .dataframe tbody tr th {\n",
       "        vertical-align: top;\n",
       "    }\n",
       "\n",
       "    .dataframe thead th {\n",
       "        text-align: right;\n",
       "    }\n",
       "</style>\n",
       "<table border=\"1\" class=\"dataframe\">\n",
       "  <thead>\n",
       "    <tr style=\"text-align: right;\">\n",
       "      <th></th>\n",
       "      <th>model</th>\n",
       "      <th>best_score</th>\n",
       "      <th>best_params</th>\n",
       "    </tr>\n",
       "  </thead>\n",
       "  <tbody>\n",
       "    <tr>\n",
       "      <th>0</th>\n",
       "      <td>svm</td>\n",
       "      <td>0.820221</td>\n",
       "      <td>{'C': 1, 'gamma': 0.1, 'kernel': 'rbf'}</td>\n",
       "    </tr>\n",
       "    <tr>\n",
       "      <th>1</th>\n",
       "      <td>random_forest</td>\n",
       "      <td>0.821639</td>\n",
       "      <td>{'max_depth': 3, 'max_features': 'sqrt', 'min_...</td>\n",
       "    </tr>\n",
       "    <tr>\n",
       "      <th>2</th>\n",
       "      <td>logistic_regression</td>\n",
       "      <td>0.801950</td>\n",
       "      <td>{'C': 0.1, 'max_iter': 100, 'penalty': 'l2', '...</td>\n",
       "    </tr>\n",
       "    <tr>\n",
       "      <th>3</th>\n",
       "      <td>gaussin_nb</td>\n",
       "      <td>0.782261</td>\n",
       "      <td>{'var_smoothing': 1e-09}</td>\n",
       "    </tr>\n",
       "    <tr>\n",
       "      <th>4</th>\n",
       "      <td>knn</td>\n",
       "      <td>0.806166</td>\n",
       "      <td>{'metric': 'manhattan', 'n_neighbors': 3, 'wei...</td>\n",
       "    </tr>\n",
       "  </tbody>\n",
       "</table>\n",
       "</div>"
      ],
      "text/plain": [
       "                 model  best_score  \\\n",
       "0                  svm    0.820221   \n",
       "1        random_forest    0.821639   \n",
       "2  logistic_regression    0.801950   \n",
       "3           gaussin_nb    0.782261   \n",
       "4                  knn    0.806166   \n",
       "\n",
       "                                         best_params  \n",
       "0            {'C': 1, 'gamma': 0.1, 'kernel': 'rbf'}  \n",
       "1  {'max_depth': 3, 'max_features': 'sqrt', 'min_...  \n",
       "2  {'C': 0.1, 'max_iter': 100, 'penalty': 'l2', '...  \n",
       "3                           {'var_smoothing': 1e-09}  \n",
       "4  {'metric': 'manhattan', 'n_neighbors': 3, 'wei...  "
      ]
     },
     "execution_count": 46,
     "metadata": {},
     "output_type": "execute_result"
    }
   ],
   "source": [
    "df_score = pd.DataFrame(score, columns = ['model', 'best_score', 'best_params'])\n",
    "df_score"
   ]
  },
  {
   "cell_type": "code",
   "execution_count": 47,
   "id": "b6c63de7",
   "metadata": {
    "execution": {
     "iopub.execute_input": "2023-04-20T08:56:39.667297Z",
     "iopub.status.busy": "2023-04-20T08:56:39.666615Z",
     "iopub.status.idle": "2023-04-20T08:56:39.695027Z",
     "shell.execute_reply": "2023-04-20T08:56:39.693756Z"
    },
    "papermill": {
     "duration": 0.036928,
     "end_time": "2023-04-20T08:56:39.697449",
     "exception": false,
     "start_time": "2023-04-20T08:56:39.660521",
     "status": "completed"
    },
    "tags": []
   },
   "outputs": [
    {
     "data": {
      "text/plain": [
       "SVC(C=1, gamma=0.1)"
      ]
     },
     "execution_count": 47,
     "metadata": {},
     "output_type": "execute_result"
    }
   ],
   "source": [
    "# Fit model to SVM after Grid Search\n",
    "\n",
    "svm_model = svm.SVC(C=1, gamma=0.1, kernel='rbf')\n",
    "svm_model.fit(x_train, y_train)"
   ]
  },
  {
   "cell_type": "code",
   "execution_count": 48,
   "id": "921ddc04",
   "metadata": {
    "execution": {
     "iopub.execute_input": "2023-04-20T08:56:39.707718Z",
     "iopub.status.busy": "2023-04-20T08:56:39.707275Z",
     "iopub.status.idle": "2023-04-20T08:56:39.717600Z",
     "shell.execute_reply": "2023-04-20T08:56:39.716246Z"
    },
    "papermill": {
     "duration": 0.018525,
     "end_time": "2023-04-20T08:56:39.720283",
     "exception": false,
     "start_time": "2023-04-20T08:56:39.701758",
     "status": "completed"
    },
    "tags": []
   },
   "outputs": [],
   "source": [
    "y_pred = svm_model.predict(x_val)"
   ]
  },
  {
   "cell_type": "code",
   "execution_count": 49,
   "id": "46d8bbd2",
   "metadata": {
    "execution": {
     "iopub.execute_input": "2023-04-20T08:56:39.730927Z",
     "iopub.status.busy": "2023-04-20T08:56:39.730145Z",
     "iopub.status.idle": "2023-04-20T08:56:39.740910Z",
     "shell.execute_reply": "2023-04-20T08:56:39.739567Z"
    },
    "papermill": {
     "duration": 0.018667,
     "end_time": "2023-04-20T08:56:39.743283",
     "exception": false,
     "start_time": "2023-04-20T08:56:39.724616",
     "status": "completed"
    },
    "tags": []
   },
   "outputs": [
    {
     "name": "stdout",
     "output_type": "stream",
     "text": [
      "              precision    recall  f1-score   support\n",
      "\n",
      "           0       0.82      0.92      0.86       107\n",
      "           1       0.85      0.69      0.76        72\n",
      "\n",
      "    accuracy                           0.83       179\n",
      "   macro avg       0.83      0.81      0.81       179\n",
      "weighted avg       0.83      0.83      0.82       179\n",
      "\n"
     ]
    }
   ],
   "source": [
    "print(classification_report(y_val, y_pred))"
   ]
  },
  {
   "cell_type": "code",
   "execution_count": 50,
   "id": "eb568d94",
   "metadata": {
    "execution": {
     "iopub.execute_input": "2023-04-20T08:56:39.754094Z",
     "iopub.status.busy": "2023-04-20T08:56:39.753110Z",
     "iopub.status.idle": "2023-04-20T08:56:39.768131Z",
     "shell.execute_reply": "2023-04-20T08:56:39.766842Z"
    },
    "papermill": {
     "duration": 0.023197,
     "end_time": "2023-04-20T08:56:39.770851",
     "exception": false,
     "start_time": "2023-04-20T08:56:39.747654",
     "status": "completed"
    },
    "tags": []
   },
   "outputs": [],
   "source": [
    "y_pred_final = svm_model.predict(x_test)"
   ]
  },
  {
   "cell_type": "code",
   "execution_count": 51,
   "id": "b2ed2dcc",
   "metadata": {
    "execution": {
     "iopub.execute_input": "2023-04-20T08:56:39.781391Z",
     "iopub.status.busy": "2023-04-20T08:56:39.780994Z",
     "iopub.status.idle": "2023-04-20T08:56:39.789896Z",
     "shell.execute_reply": "2023-04-20T08:56:39.789021Z"
    },
    "papermill": {
     "duration": 0.017006,
     "end_time": "2023-04-20T08:56:39.792253",
     "exception": false,
     "start_time": "2023-04-20T08:56:39.775247",
     "status": "completed"
    },
    "tags": []
   },
   "outputs": [],
   "source": [
    "##output = pd.DataFrame({'PassengerId': df_test['PassengerId'], 'Survived': y_pred_final})\n",
    "##output.to_csv('submission.csv', index=False)"
   ]
  },
  {
   "cell_type": "code",
   "execution_count": 52,
   "id": "39f1b61f",
   "metadata": {
    "papermill": {
     "duration": 0.004009,
     "end_time": "2023-04-20T08:56:39.800635",
     "exception": false,
     "start_time": "2023-04-20T08:56:39.796626",
     "status": "completed"
    },
    "tags": []
   },
   "outputs": [],
   "source": [
    "pickle.dump(svm_model, open('titanic_model0.1.0.pkl', 'wb'))"
   ]
  },
  {
   "cell_type": "code",
   "execution_count": 53,
   "id": "fe8d6f86",
   "metadata": {},
   "outputs": [],
   "source": [
    "pickled_model = pickle.load(open('titanic_model0.1.0.pkl', 'rb'))"
   ]
  },
  {
   "cell_type": "code",
   "execution_count": null,
   "id": "4476b6e5",
   "metadata": {},
   "outputs": [],
   "source": []
  }
 ],
 "metadata": {
  "kernelspec": {
   "display_name": "Python 3 (ipykernel)",
   "language": "python",
   "name": "python3"
  },
  "language_info": {
   "codemirror_mode": {
    "name": "ipython",
    "version": 3
   },
   "file_extension": ".py",
   "mimetype": "text/x-python",
   "name": "python",
   "nbconvert_exporter": "python",
   "pygments_lexer": "ipython3",
   "version": "3.9.7"
  },
  "papermill": {
   "default_parameters": {},
   "duration": 88.248107,
   "end_time": "2023-04-20T08:56:40.526716",
   "environment_variables": {},
   "exception": null,
   "input_path": "__notebook__.ipynb",
   "output_path": "__notebook__.ipynb",
   "parameters": {},
   "start_time": "2023-04-20T08:55:12.278609",
   "version": "2.3.4"
  }
 },
 "nbformat": 4,
 "nbformat_minor": 5
}
